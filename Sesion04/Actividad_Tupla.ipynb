{
 "cells": [
  {
   "cell_type": "markdown",
   "id": "3bf634ad",
   "metadata": {},
   "source": [
    "# Actividad: Tupla"
   ]
  },
  {
   "cell_type": "code",
   "execution_count": 1,
   "id": "441bf6b4",
   "metadata": {},
   "outputs": [
    {
     "data": {
      "text/plain": [
       "('Victor', 1.77, 40, True, [7, 'Nov'])"
      ]
     },
     "execution_count": 1,
     "metadata": {},
     "output_type": "execute_result"
    }
   ],
   "source": [
    "miTupla = (\"Victor\",1.77,40,True,[7,\"Nov\"])\n",
    "miTupla"
   ]
  },
  {
   "cell_type": "code",
   "execution_count": 2,
   "id": "d5beb467",
   "metadata": {},
   "outputs": [
    {
     "data": {
      "text/plain": [
       "['Victor', 1.77, 40, True, [7, 'Nov']]"
      ]
     },
     "execution_count": 2,
     "metadata": {},
     "output_type": "execute_result"
    }
   ],
   "source": [
    "listaTupla = list(miTupla)\n",
    "listaTupla"
   ]
  },
  {
   "cell_type": "code",
   "execution_count": 3,
   "id": "ba700a7e",
   "metadata": {},
   "outputs": [
    {
     "data": {
      "text/plain": [
       "{1: 'Victor', 2: 1.77, 3: 40, 4: True, 5: [7, 'Nov']}"
      ]
     },
     "execution_count": 3,
     "metadata": {},
     "output_type": "execute_result"
    }
   ],
   "source": [
    "myDict = {1:\"Victor\",2:1.77,3:40,4:True,5:[7,\"Nov\"]}\n",
    "myDict"
   ]
  },
  {
   "cell_type": "code",
   "execution_count": null,
   "id": "eede360a",
   "metadata": {},
   "outputs": [],
   "source": []
  }
 ],
 "metadata": {
  "kernelspec": {
   "display_name": "Python 3",
   "language": "python",
   "name": "python3"
  },
  "language_info": {
   "codemirror_mode": {
    "name": "ipython",
    "version": 3
   },
   "file_extension": ".py",
   "mimetype": "text/x-python",
   "name": "python",
   "nbconvert_exporter": "python",
   "pygments_lexer": "ipython3",
   "version": "3.6.13"
  }
 },
 "nbformat": 4,
 "nbformat_minor": 5
}
