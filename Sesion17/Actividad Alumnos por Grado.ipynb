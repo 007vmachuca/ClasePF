{
 "cells": [
  {
   "cell_type": "markdown",
   "id": "0b24d9d7",
   "metadata": {},
   "source": [
    "# Actividad Básica: Alumnos"
   ]
  },
  {
   "cell_type": "code",
   "execution_count": 1,
   "id": "6f3a05e4",
   "metadata": {},
   "outputs": [],
   "source": [
    "# Crea/Presenta  la forma que creas más conveniente para describir cuántos alumnos hay por grados. \n"
   ]
  },
  {
   "cell_type": "code",
   "execution_count": 6,
   "id": "81cc6874",
   "metadata": {},
   "outputs": [],
   "source": [
    "import pandas as pd\n",
    "import numpy as np\n",
    "import matplotlib as plt"
   ]
  },
  {
   "cell_type": "code",
   "execution_count": 13,
   "id": "445f2012",
   "metadata": {},
   "outputs": [],
   "source": [
    "data_students = pd.read_csv(\"clean_students_complete.csv\")\n",
    "data_students.set_index(\"Student ID\", inplace=True)\n",
    "data_student = data_students.drop([\"Unnamed: 0\"],axis=1)"
   ]
  },
  {
   "cell_type": "code",
   "execution_count": 15,
   "id": "4d1f94c8",
   "metadata": {},
   "outputs": [
    {
     "data": {
      "text/plain": [
       "<AxesSubplot:title={'center':'Estudiantes por grado'}>"
      ]
     },
     "execution_count": 15,
     "metadata": {},
     "output_type": "execute_result"
    },
    {
     "data": {
      "image/png": "[encoded data removed]",
      "text/plain": [
       "<Figure size 432x288 with 1 Axes>"
      ]
     },
     "metadata": {
      "needs_background": "light"
     },
     "output_type": "display_data"
    }
   ],
   "source": [
    "data_students[\"grade\"].value_counts().plot(kind=\"barh\",title=\"Estudiantes por grado\")"
   ]
  },
  {
   "cell_type": "code",
   "execution_count": null,
   "id": "7a35fc03",
   "metadata": {},
   "outputs": [],
   "source": []
  },
  {
   "cell_type": "code",
   "execution_count": null,
   "id": "fe5e9cb2",
   "metadata": {},
   "outputs": [],
   "source": []
  },
  {
   "cell_type": "code",
   "execution_count": null,
   "id": "e1e3b4d4",
   "metadata": {},
   "outputs": [],
   "source": []
  },
  {
   "cell_type": "code",
   "execution_count": null,
   "id": "83bba6c5",
   "metadata": {},
   "outputs": [],
   "source": []
  },
  {
   "cell_type": "code",
   "execution_count": null,
   "id": "d5ba6944",
   "metadata": {},
   "outputs": [],
   "source": []
  },
  {
   "cell_type": "markdown",
   "id": "1683bf8c",
   "metadata": {},
   "source": [
    "# Actividad Avanzada: Alumnos"
   ]
  },
  {
   "cell_type": "code",
   "execution_count": null,
   "id": "e1d74923",
   "metadata": {},
   "outputs": [],
   "source": []
  }
 ],
 "metadata": {
  "kernelspec": {
   "display_name": "Python 3",
   "language": "python",
   "name": "python3"
  },
  "language_info": {
   "codemirror_mode": {
    "name": "ipython",
    "version": 3
   },
   "file_extension": ".py",
   "mimetype": "text/x-python",
   "name": "python",
   "nbconvert_exporter": "python",
   "pygments_lexer": "ipython3",
   "version": "3.6.13"
  }
 },
 "nbformat": 4,
 "nbformat_minor": 5
}
