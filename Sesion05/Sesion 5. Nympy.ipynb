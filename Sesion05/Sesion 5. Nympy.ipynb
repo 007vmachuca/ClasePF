{
 "cells": [
  {
   "cell_type": "code",
   "execution_count": 1,
   "id": "00f4e03c",
   "metadata": {},
   "outputs": [
    {
     "name": "stdout",
     "output_type": "stream",
     "text": [
      "Collecting numpy\n",
      "  Downloading numpy-1.19.5-cp36-cp36m-win_amd64.whl (13.2 MB)\n",
      "Installing collected packages: numpy\n",
      "Successfully installed numpy-1.19.5\n"
     ]
    }
   ],
   "source": [
    "!pip install numpy\n"
   ]
  },
  {
   "cell_type": "code",
   "execution_count": 2,
   "id": "80339993",
   "metadata": {},
   "outputs": [],
   "source": [
    "import numpy"
   ]
  },
  {
   "cell_type": "code",
   "execution_count": 3,
   "id": "d3faf394",
   "metadata": {},
   "outputs": [],
   "source": [
    "lista = [1,2,3]"
   ]
  },
  {
   "cell_type": "code",
   "execution_count": 4,
   "id": "07df4241",
   "metadata": {},
   "outputs": [
    {
     "data": {
      "text/plain": [
       "list"
      ]
     },
     "execution_count": 4,
     "metadata": {},
     "output_type": "execute_result"
    }
   ],
   "source": [
    "type(lista)"
   ]
  },
  {
   "cell_type": "code",
   "execution_count": 5,
   "id": "7727196b",
   "metadata": {},
   "outputs": [],
   "source": [
    "matriz = numpy.array(lista)"
   ]
  },
  {
   "cell_type": "code",
   "execution_count": 7,
   "id": "5940b795",
   "metadata": {},
   "outputs": [
    {
     "data": {
      "text/plain": [
       "numpy.ndarray"
      ]
     },
     "execution_count": 7,
     "metadata": {},
     "output_type": "execute_result"
    }
   ],
   "source": [
    "type(matriz)"
   ]
  },
  {
   "cell_type": "code",
   "execution_count": 8,
   "id": "bd125e2b",
   "metadata": {},
   "outputs": [
    {
     "data": {
      "text/plain": [
       "array([1, 2, 3])"
      ]
     },
     "execution_count": 8,
     "metadata": {},
     "output_type": "execute_result"
    }
   ],
   "source": [
    "matriz"
   ]
  },
  {
   "cell_type": "code",
   "execution_count": 9,
   "id": "da120025",
   "metadata": {},
   "outputs": [],
   "source": [
    "import numpy as np"
   ]
  },
  {
   "cell_type": "code",
   "execution_count": 11,
   "id": "c95462b7",
   "metadata": {},
   "outputs": [],
   "source": [
    "matriz2 = np.array(lista)"
   ]
  },
  {
   "cell_type": "code",
   "execution_count": 12,
   "id": "e43ebe9c",
   "metadata": {},
   "outputs": [
    {
     "data": {
      "text/plain": [
       "array([1, 2, 3])"
      ]
     },
     "execution_count": 12,
     "metadata": {},
     "output_type": "execute_result"
    }
   ],
   "source": [
    "matriz2"
   ]
  },
  {
   "cell_type": "code",
   "execution_count": 13,
   "id": "b30364d6",
   "metadata": {},
   "outputs": [
    {
     "data": {
      "text/plain": [
       "1"
      ]
     },
     "execution_count": 13,
     "metadata": {},
     "output_type": "execute_result"
    }
   ],
   "source": [
    "matriz.ndim"
   ]
  },
  {
   "cell_type": "code",
   "execution_count": 14,
   "id": "bc4ffba5",
   "metadata": {},
   "outputs": [
    {
     "data": {
      "text/plain": [
       "(3,)"
      ]
     },
     "execution_count": 14,
     "metadata": {},
     "output_type": "execute_result"
    }
   ],
   "source": [
    "matriz.shape"
   ]
  },
  {
   "cell_type": "code",
   "execution_count": 15,
   "id": "b576b22a",
   "metadata": {},
   "outputs": [],
   "source": [
    "lista3 = [1.0,True,\"a\",3]"
   ]
  },
  {
   "cell_type": "code",
   "execution_count": 16,
   "id": "2ca5e4b6",
   "metadata": {},
   "outputs": [],
   "source": [
    "matriz3 = np.array(lista3)"
   ]
  },
  {
   "cell_type": "code",
   "execution_count": 19,
   "id": "f703db33",
   "metadata": {},
   "outputs": [
    {
     "data": {
      "text/plain": [
       "array(['1.0', 'True', 'a', '3'], dtype='<U32')"
      ]
     },
     "execution_count": 19,
     "metadata": {},
     "output_type": "execute_result"
    }
   ],
   "source": [
    "matriz3\n",
    "#Aunque la lista tiene elementos de diferente tipo de datos, el arreglo los transforma a un solo tipo\n",
    "#en este caso todos se convirtieron a tipo caracter"
   ]
  },
  {
   "cell_type": "code",
   "execution_count": 20,
   "id": "017553b0",
   "metadata": {},
   "outputs": [
    {
     "name": "stdout",
     "output_type": "stream",
     "text": [
      "<U32\n"
     ]
    }
   ],
   "source": [
    "print(matriz3.dtype)"
   ]
  },
  {
   "cell_type": "code",
   "execution_count": 21,
   "id": "4b865ab5",
   "metadata": {},
   "outputs": [
    {
     "name": "stdout",
     "output_type": "stream",
     "text": [
      "int32\n"
     ]
    }
   ],
   "source": [
    "print(matriz2.dtype)"
   ]
  },
  {
   "cell_type": "markdown",
   "id": "3c373b56",
   "metadata": {},
   "source": [
    "## Matrices solo pueden tener un tipo de dato"
   ]
  },
  {
   "cell_type": "code",
   "execution_count": 24,
   "id": "28335008",
   "metadata": {},
   "outputs": [],
   "source": [
    "matriz4 = np.array([1,2,3], dtype=\"float\")"
   ]
  },
  {
   "cell_type": "code",
   "execution_count": 26,
   "id": "f3ca31ae",
   "metadata": {},
   "outputs": [
    {
     "data": {
      "text/plain": [
       "array([1., 2., 3.])"
      ]
     },
     "execution_count": 26,
     "metadata": {},
     "output_type": "execute_result"
    }
   ],
   "source": [
    "matriz4"
   ]
  },
  {
   "cell_type": "code",
   "execution_count": 27,
   "id": "b43b9460",
   "metadata": {},
   "outputs": [],
   "source": [
    "matriz5 = np.array([1,2,3], dtype=\"float16\")"
   ]
  },
  {
   "cell_type": "code",
   "execution_count": 28,
   "id": "da8b5863",
   "metadata": {},
   "outputs": [
    {
     "data": {
      "text/plain": [
       "dtype('float16')"
      ]
     },
     "execution_count": 28,
     "metadata": {},
     "output_type": "execute_result"
    }
   ],
   "source": [
    "matriz5.dtype"
   ]
  },
  {
   "cell_type": "code",
   "execution_count": 29,
   "id": "245abc13",
   "metadata": {},
   "outputs": [],
   "source": [
    "m=[1,2,3]\n",
    "n=[3,4,5]\n"
   ]
  },
  {
   "cell_type": "code",
   "execution_count": 30,
   "id": "b17fda8d",
   "metadata": {},
   "outputs": [
    {
     "data": {
      "text/plain": [
       "[1, 2, 3, 3, 4, 5]"
      ]
     },
     "execution_count": 30,
     "metadata": {},
     "output_type": "execute_result"
    }
   ],
   "source": [
    "m+n"
   ]
  },
  {
   "cell_type": "code",
   "execution_count": 31,
   "id": "007384a5",
   "metadata": {},
   "outputs": [],
   "source": [
    "matriz_m = np.array(m)\n",
    "matriz_n = np.array(n)"
   ]
  },
  {
   "cell_type": "code",
   "execution_count": 32,
   "id": "eafa7244",
   "metadata": {},
   "outputs": [
    {
     "data": {
      "text/plain": [
       "array([4, 6, 8])"
      ]
     },
     "execution_count": 32,
     "metadata": {},
     "output_type": "execute_result"
    }
   ],
   "source": [
    "matriz_m + matriz_n"
   ]
  },
  {
   "cell_type": "code",
   "execution_count": 33,
   "id": "b6722e4f",
   "metadata": {},
   "outputs": [
    {
     "data": {
      "text/plain": [
       "array([1, 4, 9], dtype=int32)"
      ]
     },
     "execution_count": 33,
     "metadata": {},
     "output_type": "execute_result"
    }
   ],
   "source": [
    "np.square(matriz_m)"
   ]
  },
  {
   "cell_type": "code",
   "execution_count": 34,
   "id": "8f97ef96",
   "metadata": {},
   "outputs": [
    {
     "data": {
      "text/plain": [
       "1"
      ]
     },
     "execution_count": 34,
     "metadata": {},
     "output_type": "execute_result"
    }
   ],
   "source": [
    "matriz_m[0]"
   ]
  },
  {
   "cell_type": "code",
   "execution_count": 35,
   "id": "6c6a780c",
   "metadata": {},
   "outputs": [
    {
     "data": {
      "text/plain": [
       "3"
      ]
     },
     "execution_count": 35,
     "metadata": {},
     "output_type": "execute_result"
    }
   ],
   "source": [
    "matriz_m[-1]"
   ]
  },
  {
   "cell_type": "code",
   "execution_count": 36,
   "id": "429ec6c4",
   "metadata": {},
   "outputs": [
    {
     "data": {
      "text/plain": [
       "1"
      ]
     },
     "execution_count": 36,
     "metadata": {},
     "output_type": "execute_result"
    }
   ],
   "source": [
    "matriz_m[-3]"
   ]
  },
  {
   "cell_type": "code",
   "execution_count": 44,
   "id": "9acf176c",
   "metadata": {},
   "outputs": [],
   "source": [
    "matriz_m[1] = True"
   ]
  },
  {
   "cell_type": "code",
   "execution_count": 45,
   "id": "a828cc5c",
   "metadata": {},
   "outputs": [
    {
     "data": {
      "text/plain": [
       "array([1, 1, 3])"
      ]
     },
     "execution_count": 45,
     "metadata": {},
     "output_type": "execute_result"
    }
   ],
   "source": [
    "matriz_m"
   ]
  },
  {
   "cell_type": "code",
   "execution_count": 40,
   "id": "82a66863",
   "metadata": {},
   "outputs": [
    {
     "ename": "ValueError",
     "evalue": "invalid literal for int() with base 10: 'abc'",
     "output_type": "error",
     "traceback": [
      "\u001b[1;31m---------------------------------------------------------------------------\u001b[0m",
      "\u001b[1;31mValueError\u001b[0m                                Traceback (most recent call last)",
      "\u001b[1;32m<ipython-input-40-fe37ae088049>\u001b[0m in \u001b[0;36m<module>\u001b[1;34m\u001b[0m\n\u001b[1;32m----> 1\u001b[1;33m \u001b[0mmatriz_m\u001b[0m\u001b[1;33m[\u001b[0m\u001b[1;36m0\u001b[0m\u001b[1;33m]\u001b[0m\u001b[1;33m=\u001b[0m\u001b[1;34m\"abc\"\u001b[0m\u001b[1;33m\u001b[0m\u001b[1;33m\u001b[0m\u001b[0m\n\u001b[0m",
      "\u001b[1;31mValueError\u001b[0m: invalid literal for int() with base 10: 'abc'"
     ]
    }
   ],
   "source": [
    "matriz_m[0]=\"abc\""
   ]
  },
  {
   "cell_type": "code",
   "execution_count": 41,
   "id": "fd774bd9",
   "metadata": {},
   "outputs": [],
   "source": [
    "matriz_o = np.array([6,7,8,9])"
   ]
  },
  {
   "cell_type": "code",
   "execution_count": 42,
   "id": "25bdb4df",
   "metadata": {},
   "outputs": [
    {
     "data": {
      "text/plain": [
       "array([1, 2, 3])"
      ]
     },
     "execution_count": 42,
     "metadata": {},
     "output_type": "execute_result"
    }
   ],
   "source": [
    "matriz_m"
   ]
  },
  {
   "cell_type": "code",
   "execution_count": 43,
   "id": "cddf740a",
   "metadata": {
    "scrolled": true
   },
   "outputs": [
    {
     "ename": "ValueError",
     "evalue": "operands could not be broadcast together with shapes (3,) (4,) ",
     "output_type": "error",
     "traceback": [
      "\u001b[1;31m---------------------------------------------------------------------------\u001b[0m",
      "\u001b[1;31mValueError\u001b[0m                                Traceback (most recent call last)",
      "\u001b[1;32m<ipython-input-43-f8307c95dec1>\u001b[0m in \u001b[0;36m<module>\u001b[1;34m\u001b[0m\n\u001b[1;32m----> 1\u001b[1;33m \u001b[0mmatriz_m\u001b[0m \u001b[1;33m+\u001b[0m \u001b[0mmatriz_o\u001b[0m\u001b[1;33m\u001b[0m\u001b[1;33m\u001b[0m\u001b[0m\n\u001b[0m",
      "\u001b[1;31mValueError\u001b[0m: operands could not be broadcast together with shapes (3,) (4,) "
     ]
    }
   ],
   "source": [
    "matriz_m + matriz_o"
   ]
  },
  {
   "cell_type": "code",
   "execution_count": 47,
   "id": "96c2fe73",
   "metadata": {},
   "outputs": [],
   "source": [
    "matriz_negativos = matriz_m - matriz_n"
   ]
  },
  {
   "cell_type": "code",
   "execution_count": 48,
   "id": "9ff04836",
   "metadata": {},
   "outputs": [
    {
     "data": {
      "text/plain": [
       "array([2, 3, 2])"
      ]
     },
     "execution_count": 48,
     "metadata": {},
     "output_type": "execute_result"
    }
   ],
   "source": [
    "np.absolute(matriz_negativos)"
   ]
  },
  {
   "cell_type": "code",
   "execution_count": 49,
   "id": "68619501",
   "metadata": {},
   "outputs": [
    {
     "data": {
      "text/plain": [
       "array([3, 4, 5])"
      ]
     },
     "execution_count": 49,
     "metadata": {},
     "output_type": "execute_result"
    }
   ],
   "source": [
    "np.maximum(matriz_m,matriz_n)"
   ]
  },
  {
   "cell_type": "code",
   "execution_count": 50,
   "id": "4fa5fb69",
   "metadata": {},
   "outputs": [
    {
     "data": {
      "text/plain": [
       "array([1, 1, 3])"
      ]
     },
     "execution_count": 50,
     "metadata": {},
     "output_type": "execute_result"
    }
   ],
   "source": [
    "np.minimum(matriz_m,matriz_n)"
   ]
  },
  {
   "cell_type": "code",
   "execution_count": 51,
   "id": "d82310a2",
   "metadata": {},
   "outputs": [
    {
     "ename": "ValueError",
     "evalue": "operands could not be broadcast together with shapes (3,) (4,) ",
     "output_type": "error",
     "traceback": [
      "\u001b[1;31m---------------------------------------------------------------------------\u001b[0m",
      "\u001b[1;31mValueError\u001b[0m                                Traceback (most recent call last)",
      "\u001b[1;32m<ipython-input-51-c9511f8d592b>\u001b[0m in \u001b[0;36m<module>\u001b[1;34m\u001b[0m\n\u001b[1;32m----> 1\u001b[1;33m \u001b[0mnp\u001b[0m\u001b[1;33m.\u001b[0m\u001b[0mmaximum\u001b[0m\u001b[1;33m(\u001b[0m\u001b[0mmatriz_m\u001b[0m\u001b[1;33m,\u001b[0m\u001b[0mmatriz_o\u001b[0m\u001b[1;33m)\u001b[0m\u001b[1;33m\u001b[0m\u001b[1;33m\u001b[0m\u001b[0m\n\u001b[0m",
      "\u001b[1;31mValueError\u001b[0m: operands could not be broadcast together with shapes (3,) (4,) "
     ]
    }
   ],
   "source": [
    "np.maximum(matriz_m,matriz_o)"
   ]
  },
  {
   "cell_type": "code",
   "execution_count": 52,
   "id": "cfb1ef12",
   "metadata": {},
   "outputs": [],
   "source": [
    "desordenada=np.array([5,21,8,2,77,38,-90])"
   ]
  },
  {
   "cell_type": "code",
   "execution_count": 54,
   "id": "51221e00",
   "metadata": {},
   "outputs": [
    {
     "data": {
      "text/plain": [
       "array([-90,   2,   5,   8,  21,  38,  77])"
      ]
     },
     "execution_count": 54,
     "metadata": {},
     "output_type": "execute_result"
    }
   ],
   "source": [
    "desordenada.sort()\n",
    "desordenada"
   ]
  },
  {
   "cell_type": "code",
   "execution_count": 55,
   "id": "196d0a0f",
   "metadata": {},
   "outputs": [],
   "source": [
    "matriz_1 = np.array(range(1,6))\n",
    "matriz_2 = np.array(range(4,11))"
   ]
  },
  {
   "cell_type": "markdown",
   "id": "d46815fa",
   "metadata": {},
   "source": [
    "matriz_1"
   ]
  },
  {
   "cell_type": "code",
   "execution_count": 56,
   "id": "20f470ba",
   "metadata": {},
   "outputs": [
    {
     "data": {
      "text/plain": [
       "array([1, 2, 3, 4, 5])"
      ]
     },
     "execution_count": 56,
     "metadata": {},
     "output_type": "execute_result"
    }
   ],
   "source": [
    "matriz_1"
   ]
  },
  {
   "cell_type": "code",
   "execution_count": 57,
   "id": "870b327c",
   "metadata": {},
   "outputs": [
    {
     "data": {
      "text/plain": [
       "array([ 4,  5,  6,  7,  8,  9, 10])"
      ]
     },
     "execution_count": 57,
     "metadata": {},
     "output_type": "execute_result"
    }
   ],
   "source": [
    "matriz_2"
   ]
  },
  {
   "cell_type": "code",
   "execution_count": 60,
   "id": "46802b28",
   "metadata": {},
   "outputs": [],
   "source": [
    "matriz_append = np.append(matriz_1,matriz_2,axis=0)"
   ]
  },
  {
   "cell_type": "code",
   "execution_count": 62,
   "id": "113fdf17",
   "metadata": {},
   "outputs": [
    {
     "data": {
      "text/plain": [
       "array([ 1,  2, 11,  3,  4,  5,  4,  5,  6,  7,  8,  9, 10])"
      ]
     },
     "execution_count": 62,
     "metadata": {},
     "output_type": "execute_result"
    }
   ],
   "source": [
    "np.insert(matriz_append,2,11)"
   ]
  },
  {
   "cell_type": "code",
   "execution_count": 63,
   "id": "437a3d22",
   "metadata": {},
   "outputs": [
    {
     "data": {
      "text/plain": [
       "array([ 1,  2,  3,  4,  5,  4,  5,  6,  7,  8,  9, 10])"
      ]
     },
     "execution_count": 63,
     "metadata": {},
     "output_type": "execute_result"
    }
   ],
   "source": [
    "matriz_append"
   ]
  },
  {
   "cell_type": "markdown",
   "id": "25ae13e8",
   "metadata": {},
   "source": [
    "# ACTIVIDAD 1"
   ]
  },
  {
   "cell_type": "code",
   "execution_count": 79,
   "id": "f5c6d40c",
   "metadata": {},
   "outputs": [
    {
     "data": {
      "text/plain": [
       "array([ 3,  4,  5,  6,  7,  8,  9, 10, 11, 12, 13, 14, 15, 16, 17, 18, 19,\n",
       "       20, 21, 22, 23, 24, 25, 26, 27, 28, 29, 30, 31, 32, 33, 34, 35, 36,\n",
       "       37, 38, 39, 40])"
      ]
     },
     "execution_count": 79,
     "metadata": {},
     "output_type": "execute_result"
    }
   ],
   "source": [
    "vector = np.array(range(3,41))\n",
    "vector"
   ]
  },
  {
   "cell_type": "code",
   "execution_count": 72,
   "id": "42cd22e3",
   "metadata": {},
   "outputs": [
    {
     "data": {
      "text/plain": [
       "array([0, 1, 2, 3, 4, 0, 1, 2, 3, 4])"
      ]
     },
     "execution_count": 72,
     "metadata": {},
     "output_type": "execute_result"
    }
   ],
   "source": [
    "arreglo = np.array([0,1,2,3,4,0,1,2,3,4])\n",
    "arreglo"
   ]
  },
  {
   "cell_type": "code",
   "execution_count": 73,
   "id": "8a939ead",
   "metadata": {},
   "outputs": [
    {
     "data": {
      "text/plain": [
       "array([0, 0, 1, 1, 2, 2, 3, 3, 4, 4])"
      ]
     },
     "execution_count": 73,
     "metadata": {},
     "output_type": "execute_result"
    }
   ],
   "source": [
    "arreglo.sort()\n",
    "arreglo"
   ]
  },
  {
   "cell_type": "code",
   "execution_count": null,
   "id": "75119e09",
   "metadata": {},
   "outputs": [],
   "source": []
  }
 ],
 "metadata": {
  "kernelspec": {
   "display_name": "Python 3",
   "language": "python",
   "name": "python3"
  },
  "language_info": {
   "codemirror_mode": {
    "name": "ipython",
    "version": 3
   },
   "file_extension": ".py",
   "mimetype": "text/x-python",
   "name": "python",
   "nbconvert_exporter": "python",
   "pygments_lexer": "ipython3",
   "version": "3.6.13"
  }
 },
 "nbformat": 4,
 "nbformat_minor": 5
}
