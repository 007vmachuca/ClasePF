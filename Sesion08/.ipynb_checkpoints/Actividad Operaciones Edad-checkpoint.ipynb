{
 "cells": [
  {
   "cell_type": "markdown",
   "id": "0e0f08d0",
   "metadata": {},
   "source": [
    "# Operaciones Edad "
   ]
  },
  {
   "cell_type": "code",
   "execution_count": 1,
   "id": "43d26fca",
   "metadata": {},
   "outputs": [],
   "source": [
    "import numpy as np"
   ]
  },
  {
   "cell_type": "code",
   "execution_count": 5,
   "id": "0da849aa",
   "metadata": {},
   "outputs": [
    {
     "data": {
      "text/plain": [
       "12.0"
      ]
     },
     "execution_count": 5,
     "metadata": {},
     "output_type": "execute_result"
    }
   ],
   "source": [
    "#1.-El doble de mi edad tiene 24 años, ¿cuántos años tengo?\n",
    "edad = 24/2\n",
    "edad\n"
   ]
  },
  {
   "cell_type": "code",
   "execution_count": 6,
   "id": "08dc9a2e",
   "metadata": {},
   "outputs": [
    {
     "data": {
      "text/plain": [
       "63"
      ]
     },
     "execution_count": 6,
     "metadata": {},
     "output_type": "execute_result"
    }
   ],
   "source": [
    "#2.- A un tercio de la edad de mi hermana le disminuyo 15 años. Tengo 6 años. ¿Qué edad tiene?\n",
    "#(x/3)-15 = 6\n",
    "x = (6+15)*3\n",
    "x\n"
   ]
  },
  {
   "cell_type": "code",
   "execution_count": 7,
   "id": "722049e1",
   "metadata": {},
   "outputs": [
    {
     "data": {
      "text/plain": [
       "True"
      ]
     },
     "execution_count": 7,
     "metadata": {},
     "output_type": "execute_result"
    }
   ],
   "source": [
    "#3.-Determina quién es más grande.\n",
    "x > 6\n"
   ]
  },
  {
   "cell_type": "code",
   "execution_count": null,
   "id": "6705b05e",
   "metadata": {},
   "outputs": [],
   "source": []
  }
 ],
 "metadata": {
  "kernelspec": {
   "display_name": "Python 3",
   "language": "python",
   "name": "python3"
  },
  "language_info": {
   "codemirror_mode": {
    "name": "ipython",
    "version": 3
   },
   "file_extension": ".py",
   "mimetype": "text/x-python",
   "name": "python",
   "nbconvert_exporter": "python",
   "pygments_lexer": "ipython3",
   "version": "3.6.13"
  }
 },
 "nbformat": 4,
 "nbformat_minor": 5
}
