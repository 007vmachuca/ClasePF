{
 "cells": [
  {
   "cell_type": "code",
   "execution_count": 1,
   "id": "30ce83d6",
   "metadata": {},
   "outputs": [],
   "source": [
    "import pandas as pd\n",
    "import numpy as np\n"
   ]
  },
  {
   "cell_type": "code",
   "execution_count": 2,
   "id": "0a07194e",
   "metadata": {},
   "outputs": [],
   "source": [
    "dict_1={\n",
    "    \"Nombre\":[\"Ringo\",\"John\",\"Paul\",\"Geroge\",\"Yoko\"],\n",
    "    \"Edad\":[45,34,42,38,47],\n",
    "    \"Salario\":[12000,14000,13000,11000,10000],\n",
    "    \"Genero\":[\"M\",\"M\",\"M\",\"M\",\"F\"]\n",
    "}"
   ]
  },
  {
   "cell_type": "code",
   "execution_count": 3,
   "id": "d8001138",
   "metadata": {},
   "outputs": [],
   "source": [
    "data = pd.DataFrame(dict_1)"
   ]
  },
  {
   "cell_type": "code",
   "execution_count": 6,
   "id": "100d1579",
   "metadata": {},
   "outputs": [
    {
     "data": {
      "text/plain": [
       "4000"
      ]
     },
     "execution_count": 6,
     "metadata": {},
     "output_type": "execute_result"
    }
   ],
   "source": [
    "# Obtén la diferencia entre el salario más alto y el más pequeño.\n",
    "\n",
    "data[\"Salario\"].max() - data[\"Salario\"].min()"
   ]
  },
  {
   "cell_type": "code",
   "execution_count": 7,
   "id": "e9cce9c7",
   "metadata": {},
   "outputs": [
    {
     "data": {
      "text/plain": [
       "count        5.00000\n",
       "mean     12000.00000\n",
       "std       1581.13883\n",
       "min      10000.00000\n",
       "25%      11000.00000\n",
       "50%      12000.00000\n",
       "75%      13000.00000\n",
       "max      14000.00000\n",
       "Name: Salario, dtype: float64"
      ]
     },
     "execution_count": 7,
     "metadata": {},
     "output_type": "execute_result"
    }
   ],
   "source": [
    "# Obtén los valores estadísticos de los salarios. (media, mediana, desviación estándar, etc)\n",
    "data[\"Salario\"].describe()"
   ]
  },
  {
   "cell_type": "code",
   "execution_count": null,
   "id": "0134f4d6",
   "metadata": {},
   "outputs": [],
   "source": []
  }
 ],
 "metadata": {
  "kernelspec": {
   "display_name": "Python 3",
   "language": "python",
   "name": "python3"
  },
  "language_info": {
   "codemirror_mode": {
    "name": "ipython",
    "version": 3
   },
   "file_extension": ".py",
   "mimetype": "text/x-python",
   "name": "python",
   "nbconvert_exporter": "python",
   "pygments_lexer": "ipython3",
   "version": "3.6.13"
  }
 },
 "nbformat": 4,
 "nbformat_minor": 5
}
