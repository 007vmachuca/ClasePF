{
 "cells": [
  {
   "cell_type": "code",
   "execution_count": 5,
   "metadata": {},
   "outputs": [
    {
     "name": "stdout",
     "output_type": "stream",
     "text": [
      "Miguel 18\n",
      "Edwin 23\n",
      "Gerardo 9\n",
      "Roland 25\n",
      "Pedro 16\n",
      "Paco 13\n",
      "Marco 25\n",
      "Valor minimo 9 , valor máximo 25\n"
     ]
    }
   ],
   "source": [
    "# Actividad básica\n",
    "dic = {\"Miguel\":18,\"Edwin\":23,\"Gerardo\":9,\"Roland\":25,\"Pedro\":16,\"Paco\":13,\"Marco\":25}\n",
    "min = 1000\n",
    "max = 0\n",
    "for nombre,valor in dic.items():\n",
    "    print(nombre,valor)\n",
    "    if valor > max:\n",
    "        max = valor\n",
    "    if valor < min:\n",
    "        min = valor\n",
    "\n",
    "print (\"Valor minimo\",min,\", valor máximo\",max)"
   ]
  }
 ],
 "metadata": {
  "kernelspec": {
   "display_name": "Python 3",
   "language": "python",
   "name": "python3"
  },
  "language_info": {
   "codemirror_mode": {
    "name": "ipython",
    "version": 3
   },
   "file_extension": ".py",
   "mimetype": "text/x-python",
   "name": "python",
   "nbconvert_exporter": "python",
   "pygments_lexer": "ipython3",
   "version": "3.6.13"
  },
  "vscode": {
   "interpreter": {
    "hash": "e9f211d2626d8b132aa8dc0626cf48406d3cfcdb87cd99913219c5d456c73815"
   }
  }
 },
 "nbformat": 4,
 "nbformat_minor": 2
}
