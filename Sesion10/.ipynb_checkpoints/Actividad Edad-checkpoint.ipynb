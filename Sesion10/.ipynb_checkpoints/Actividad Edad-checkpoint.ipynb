{
 "cells": [
  {
   "cell_type": "markdown",
   "id": "3f13640b",
   "metadata": {},
   "source": [
    "# Actividad: Básica\n",
    "\n"
   ]
  },
  {
   "cell_type": "code",
   "execution_count": 3,
   "id": "82d1a1c5",
   "metadata": {},
   "outputs": [
    {
     "name": "stdout",
     "output_type": "stream",
     "text": [
      "Mayor de edad\n"
     ]
    }
   ],
   "source": [
    "edad = 19\n",
    "if edad >= 18:\n",
    "    print(\"Mayor de edad\")\n",
    "else:\n",
    "    print(\"Menor de edad\")"
   ]
  },
  {
   "cell_type": "markdown",
   "id": "c5f77fb6",
   "metadata": {},
   "source": [
    "# Actividad: Avanzada"
   ]
  },
  {
   "cell_type": "code",
   "execution_count": 37,
   "id": "dc024d8b",
   "metadata": {},
   "outputs": [
    {
     "name": "stdout",
     "output_type": "stream",
     "text": [
      "Ingresa tu edad: 18\n",
      "¿Cuál es tu genero?(H/M): M\n",
      "Mayor de edad, genero  Mujer\n"
     ]
    }
   ],
   "source": [
    "edad = int(input(\"Ingresa tu edad: \"))\n",
    "x = True\n",
    "while x:\n",
    "    genero = input(\"¿Cuál es tu género?(H/M): \")\n",
    "    if (genero == 'H' or genero =='M'):\n",
    "       x = False        \n",
    "\n",
    "if genero == 'H':\n",
    "    genero = \"Hombre\"\n",
    "else:\n",
    "    genero = \"Mujer\"\n",
    "\n",
    "if edad >= 18:\n",
    "    print(\"Mayor de edad, género \",genero)\n",
    "else:\n",
    "    print(\"Menor de edad, género \", genero)\n",
    "\n"
   ]
  }
 ],
 "metadata": {
  "kernelspec": {
   "display_name": "Python 3",
   "language": "python",
   "name": "python3"
  },
  "language_info": {
   "codemirror_mode": {
    "name": "ipython",
    "version": 3
   },
   "file_extension": ".py",
   "mimetype": "text/x-python",
   "name": "python",
   "nbconvert_exporter": "python",
   "pygments_lexer": "ipython3",
   "version": "3.6.13"
  }
 },
 "nbformat": 4,
 "nbformat_minor": 5
}
