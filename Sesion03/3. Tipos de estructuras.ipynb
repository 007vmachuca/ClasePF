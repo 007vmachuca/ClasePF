{
 "cells": [
  {
   "cell_type": "code",
   "execution_count": 2,
   "id": "1d8c25c0",
   "metadata": {},
   "outputs": [
    {
     "name": "stdout",
     "output_type": "stream",
     "text": [
      "Hola clase de python fundamentals\n"
     ]
    }
   ],
   "source": [
    "print(\"Hola clase de python fundamentals\")"
   ]
  },
  {
   "cell_type": "code",
   "execution_count": 3,
   "id": "29f1cc82",
   "metadata": {},
   "outputs": [
    {
     "data": {
      "text/plain": [
       "3"
      ]
     },
     "execution_count": 3,
     "metadata": {},
     "output_type": "execute_result"
    }
   ],
   "source": [
    "1+2"
   ]
  },
  {
   "cell_type": "code",
   "execution_count": 4,
   "id": "20306192",
   "metadata": {},
   "outputs": [
    {
     "data": {
      "text/plain": [
       "5"
      ]
     },
     "execution_count": 4,
     "metadata": {},
     "output_type": "execute_result"
    }
   ],
   "source": [
    "10-5"
   ]
  },
  {
   "cell_type": "code",
   "execution_count": 5,
   "id": "31e46af9",
   "metadata": {},
   "outputs": [
    {
     "data": {
      "text/plain": [
       "6.0"
      ]
     },
     "execution_count": 5,
     "metadata": {},
     "output_type": "execute_result"
    }
   ],
   "source": [
    "12/2"
   ]
  },
  {
   "cell_type": "code",
   "execution_count": 6,
   "id": "b154992c",
   "metadata": {},
   "outputs": [],
   "source": [
    "x=100"
   ]
  },
  {
   "cell_type": "code",
   "execution_count": 7,
   "id": "4b44d413",
   "metadata": {},
   "outputs": [
    {
     "data": {
      "text/plain": [
       "100"
      ]
     },
     "execution_count": 7,
     "metadata": {},
     "output_type": "execute_result"
    }
   ],
   "source": [
    "x"
   ]
  },
  {
   "cell_type": "code",
   "execution_count": 8,
   "id": "368054b2",
   "metadata": {},
   "outputs": [
    {
     "data": {
      "text/plain": [
       "int"
      ]
     },
     "execution_count": 8,
     "metadata": {},
     "output_type": "execute_result"
    }
   ],
   "source": [
    "type(x)"
   ]
  },
  {
   "cell_type": "code",
   "execution_count": 9,
   "id": "c6e1d71b",
   "metadata": {},
   "outputs": [],
   "source": [
    "nombre = \"Víctor\""
   ]
  },
  {
   "cell_type": "code",
   "execution_count": 10,
   "id": "46115be9",
   "metadata": {},
   "outputs": [
    {
     "data": {
      "text/plain": [
       "'Víctor'"
      ]
     },
     "execution_count": 10,
     "metadata": {},
     "output_type": "execute_result"
    }
   ],
   "source": [
    "nombre"
   ]
  },
  {
   "cell_type": "code",
   "execution_count": 11,
   "id": "d625ef3e",
   "metadata": {},
   "outputs": [
    {
     "data": {
      "text/plain": [
       "str"
      ]
     },
     "execution_count": 11,
     "metadata": {},
     "output_type": "execute_result"
    }
   ],
   "source": [
    "type(nombre)"
   ]
  },
  {
   "cell_type": "code",
   "execution_count": 12,
   "id": "ab0fa69c",
   "metadata": {},
   "outputs": [
    {
     "data": {
      "text/plain": [
       "float"
      ]
     },
     "execution_count": 12,
     "metadata": {},
     "output_type": "execute_result"
    }
   ],
   "source": [
    "type(12/6)"
   ]
  },
  {
   "cell_type": "code",
   "execution_count": 18,
   "id": "2605cf53",
   "metadata": {},
   "outputs": [
    {
     "data": {
      "text/plain": [
       "3"
      ]
     },
     "execution_count": 18,
     "metadata": {},
     "output_type": "execute_result"
    }
   ],
   "source": [
    "3%216"
   ]
  },
  {
   "cell_type": "code",
   "execution_count": 20,
   "id": "1eaec765",
   "metadata": {},
   "outputs": [
    {
     "data": {
      "text/plain": [
       "0"
      ]
     },
     "execution_count": 20,
     "metadata": {},
     "output_type": "execute_result"
    }
   ],
   "source": [
    "#Division con resultado entero\n",
    "3//216"
   ]
  },
  {
   "cell_type": "code",
   "execution_count": 21,
   "id": "82b964e8",
   "metadata": {},
   "outputs": [
    {
     "data": {
      "text/plain": [
       "8"
      ]
     },
     "execution_count": 21,
     "metadata": {},
     "output_type": "execute_result"
    }
   ],
   "source": [
    "2*4"
   ]
  },
  {
   "cell_type": "code",
   "execution_count": 22,
   "id": "de0b1ad0",
   "metadata": {},
   "outputs": [
    {
     "data": {
      "text/plain": [
       "16"
      ]
     },
     "execution_count": 22,
     "metadata": {},
     "output_type": "execute_result"
    }
   ],
   "source": [
    "2**4"
   ]
  },
  {
   "cell_type": "code",
   "execution_count": 25,
   "id": "56938154",
   "metadata": {},
   "outputs": [
    {
     "name": "stdout",
     "output_type": "stream",
     "text": [
      "Hola clase de python fundamentals\n"
     ]
    }
   ],
   "source": [
    "#Para imprimir Hola\n",
    "print(\"Hola clase de python fundamentals\")"
   ]
  },
  {
   "cell_type": "code",
   "execution_count": 26,
   "id": "5915ac49",
   "metadata": {},
   "outputs": [
    {
     "data": {
      "text/plain": [
       "16"
      ]
     },
     "execution_count": 26,
     "metadata": {},
     "output_type": "execute_result"
    }
   ],
   "source": [
    "2**4 #Potencia de 2 a la 4ta"
   ]
  },
  {
   "cell_type": "code",
   "execution_count": 27,
   "id": "595f8222",
   "metadata": {},
   "outputs": [
    {
     "name": "stdout",
     "output_type": "stream",
     "text": [
      "99\n"
     ]
    }
   ],
   "source": [
    "#Precio total de 3 compras\n",
    "C1 = 19\n",
    "C2 = 24\n",
    "C3 = 56\n",
    "print(C1+C2+C3)"
   ]
  },
  {
   "cell_type": "code",
   "execution_count": 36,
   "id": "8fc33b34",
   "metadata": {},
   "outputs": [
    {
     "name": "stdout",
     "output_type": "stream",
     "text": [
      "99\n"
     ]
    }
   ],
   "source": [
    "#Precio total de 3 compras\n",
    "C1 = 19\n",
    "C2 = 24\n",
    "C3 = 56\n",
    "Total = C1 + C2 + C3\n",
    "print(Total)"
   ]
  },
  {
   "cell_type": "code",
   "execution_count": 31,
   "id": "8b497372",
   "metadata": {},
   "outputs": [
    {
     "ename": "SyntaxError",
     "evalue": "can't assign to keyword (<ipython-input-31-d1ddaed7a2aa>, line 1)",
     "output_type": "error",
     "traceback": [
      "\u001b[1;36m  File \u001b[1;32m\"<ipython-input-31-d1ddaed7a2aa>\"\u001b[1;36m, line \u001b[1;32m1\u001b[0m\n\u001b[1;33m    False=2\u001b[0m\n\u001b[1;37m           ^\u001b[0m\n\u001b[1;31mSyntaxError\u001b[0m\u001b[1;31m:\u001b[0m can't assign to keyword\n"
     ]
    }
   ],
   "source": [
    "False=2"
   ]
  },
  {
   "cell_type": "code",
   "execution_count": 32,
   "id": "d5341f3c",
   "metadata": {},
   "outputs": [
    {
     "data": {
      "text/plain": [
       "{'__name__': '__main__',\n",
       " '__doc__': 'Automatically created module for IPython interactive environment',\n",
       " '__package__': None,\n",
       " '__loader__': None,\n",
       " '__spec__': None,\n",
       " '__builtin__': <module 'builtins' (built-in)>,\n",
       " '__builtins__': <module 'builtins' (built-in)>,\n",
       " '_ih': ['',\n",
       "  'print(\"Hola clase de python fundamentals\")',\n",
       "  'print(\"Hola clase de python fundamentals\")',\n",
       "  '1+2',\n",
       "  '10-5',\n",
       "  '12/2',\n",
       "  'x=100',\n",
       "  'x',\n",
       "  'type(x)',\n",
       "  'nombre = \"Víctor\"',\n",
       "  'nombre',\n",
       "  'type(nombre)',\n",
       "  'type(12/6)',\n",
       "  '3%216',\n",
       "  '3%217',\n",
       "  '3%219',\n",
       "  '3%2',\n",
       "  '3%1234243',\n",
       "  '3%216',\n",
       "  '3//216',\n",
       "  '#Division con resultado entero\\n3//216',\n",
       "  '2*4',\n",
       "  '2**4',\n",
       "  '#print(\"Hola clase de python fundamentals\")',\n",
       "  '#Para imprimir un comentarioprint(\"Hola clase de python fundamentals\")',\n",
       "  '#Para imprimir Hola\\nprint(\"Hola clase de python fundamentals\")',\n",
       "  '2**4 #Potencia de 2 a la 4ta',\n",
       "  '#Precio total de 3 compras\\nC1 = 19\\nC2 = 24\\nC3 = 56\\nprint(C1+C2+C3)',\n",
       "  '#Precio total de 3 compras\\nC1 = 19\\nC2 = 24\\nC3 = 56\\nTotal = C1 + C2 + C3\\nprint(Total)',\n",
       "  '#Precio total de 3 compras\\nC1 = 19\\nC2 = 24\\nC3 = 56\\nTotal = C1 + C2 + C3\\nprint(total)',\n",
       "  '#Precio total de 3 compras\\nC1 = 19\\nC2 = 24\\nC3 = 56\\nTotal = C1 + C2 + C3\\nprint(Total)',\n",
       "  'False=2',\n",
       "  'vars()'],\n",
       " '_oh': {3: 3,\n",
       "  4: 5,\n",
       "  5: 6.0,\n",
       "  7: 100,\n",
       "  8: int,\n",
       "  10: 'Víctor',\n",
       "  11: str,\n",
       "  12: float,\n",
       "  13: 3,\n",
       "  14: 3,\n",
       "  15: 3,\n",
       "  16: 1,\n",
       "  17: 3,\n",
       "  18: 3,\n",
       "  19: 0,\n",
       "  20: 0,\n",
       "  21: 8,\n",
       "  22: 16,\n",
       "  26: 16},\n",
       " '_dh': ['C:\\\\Users\\\\vmachuca\\\\Documents\\\\Python_Fundamentals'],\n",
       " 'In': ['',\n",
       "  'print(\"Hola clase de python fundamentals\")',\n",
       "  'print(\"Hola clase de python fundamentals\")',\n",
       "  '1+2',\n",
       "  '10-5',\n",
       "  '12/2',\n",
       "  'x=100',\n",
       "  'x',\n",
       "  'type(x)',\n",
       "  'nombre = \"Víctor\"',\n",
       "  'nombre',\n",
       "  'type(nombre)',\n",
       "  'type(12/6)',\n",
       "  '3%216',\n",
       "  '3%217',\n",
       "  '3%219',\n",
       "  '3%2',\n",
       "  '3%1234243',\n",
       "  '3%216',\n",
       "  '3//216',\n",
       "  '#Division con resultado entero\\n3//216',\n",
       "  '2*4',\n",
       "  '2**4',\n",
       "  '#print(\"Hola clase de python fundamentals\")',\n",
       "  '#Para imprimir un comentarioprint(\"Hola clase de python fundamentals\")',\n",
       "  '#Para imprimir Hola\\nprint(\"Hola clase de python fundamentals\")',\n",
       "  '2**4 #Potencia de 2 a la 4ta',\n",
       "  '#Precio total de 3 compras\\nC1 = 19\\nC2 = 24\\nC3 = 56\\nprint(C1+C2+C3)',\n",
       "  '#Precio total de 3 compras\\nC1 = 19\\nC2 = 24\\nC3 = 56\\nTotal = C1 + C2 + C3\\nprint(Total)',\n",
       "  '#Precio total de 3 compras\\nC1 = 19\\nC2 = 24\\nC3 = 56\\nTotal = C1 + C2 + C3\\nprint(total)',\n",
       "  '#Precio total de 3 compras\\nC1 = 19\\nC2 = 24\\nC3 = 56\\nTotal = C1 + C2 + C3\\nprint(Total)',\n",
       "  'False=2',\n",
       "  'vars()'],\n",
       " 'Out': {3: 3,\n",
       "  4: 5,\n",
       "  5: 6.0,\n",
       "  7: 100,\n",
       "  8: int,\n",
       "  10: 'Víctor',\n",
       "  11: str,\n",
       "  12: float,\n",
       "  13: 3,\n",
       "  14: 3,\n",
       "  15: 3,\n",
       "  16: 1,\n",
       "  17: 3,\n",
       "  18: 3,\n",
       "  19: 0,\n",
       "  20: 0,\n",
       "  21: 8,\n",
       "  22: 16,\n",
       "  26: 16},\n",
       " 'get_ipython': <bound method InteractiveShell.get_ipython of <ipykernel.zmqshell.ZMQInteractiveShell object at 0x000001FCED337128>>,\n",
       " 'exit': <IPython.core.autocall.ZMQExitAutocall at 0x1fcf128f780>,\n",
       " 'quit': <IPython.core.autocall.ZMQExitAutocall at 0x1fcf128f780>,\n",
       " '_': 16,\n",
       " '__': 16,\n",
       " '___': 8,\n",
       " '_i': 'False=2',\n",
       " '_ii': '#Precio total de 3 compras\\nC1 = 19\\nC2 = 24\\nC3 = 56\\nTotal = C1 + C2 + C3\\nprint(Total)',\n",
       " '_iii': '#Precio total de 3 compras\\nC1 = 19\\nC2 = 24\\nC3 = 56\\nTotal = C1 + C2 + C3\\nprint(total)',\n",
       " '_i1': 'print(\"Hola clase de python fundamentals\")',\n",
       " '_i2': 'print(\"Hola clase de python fundamentals\")',\n",
       " '_i3': '1+2',\n",
       " '_3': 3,\n",
       " '_i4': '10-5',\n",
       " '_4': 5,\n",
       " '_i5': '12/2',\n",
       " '_5': 6.0,\n",
       " '_i6': 'x=100',\n",
       " 'x': 100,\n",
       " '_i7': 'x',\n",
       " '_7': 100,\n",
       " '_i8': 'type(x)',\n",
       " '_8': int,\n",
       " '_i9': 'nombre = \"Víctor\"',\n",
       " 'nombre': 'Víctor',\n",
       " '_i10': 'nombre',\n",
       " '_10': 'Víctor',\n",
       " '_i11': 'type(nombre)',\n",
       " '_11': str,\n",
       " '_i12': 'type(12/6)',\n",
       " '_12': float,\n",
       " '_i13': '3%216',\n",
       " '_13': 3,\n",
       " '_i14': '3%217',\n",
       " '_14': 3,\n",
       " '_i15': '3%219',\n",
       " '_15': 3,\n",
       " '_i16': '3%2',\n",
       " '_16': 1,\n",
       " '_i17': '3%1234243',\n",
       " '_17': 3,\n",
       " '_i18': '3%216',\n",
       " '_18': 3,\n",
       " '_i19': '3//216',\n",
       " '_19': 0,\n",
       " '_i20': '#Division con resultado entero\\n3//216',\n",
       " '_20': 0,\n",
       " '_i21': '2*4',\n",
       " '_21': 8,\n",
       " '_i22': '2**4',\n",
       " '_22': 16,\n",
       " '_i23': '#print(\"Hola clase de python fundamentals\")',\n",
       " '_i24': '#Para imprimir un comentarioprint(\"Hola clase de python fundamentals\")',\n",
       " '_i25': '#Para imprimir Hola\\nprint(\"Hola clase de python fundamentals\")',\n",
       " '_i26': '2**4 #Potencia de 2 a la 4ta',\n",
       " '_26': 16,\n",
       " '_i27': '#Precio total de 3 compras\\nC1 = 19\\nC2 = 24\\nC3 = 56\\nprint(C1+C2+C3)',\n",
       " 'C1': 19,\n",
       " 'C2': 24,\n",
       " 'C3': 56,\n",
       " '_i28': '#Precio total de 3 compras\\nC1 = 19\\nC2 = 24\\nC3 = 56\\nTotal = C1 + C2 + C3\\nprint(Total)',\n",
       " 'Total': 99,\n",
       " '_i29': '#Precio total de 3 compras\\nC1 = 19\\nC2 = 24\\nC3 = 56\\nTotal = C1 + C2 + C3\\nprint(total)',\n",
       " '_i30': '#Precio total de 3 compras\\nC1 = 19\\nC2 = 24\\nC3 = 56\\nTotal = C1 + C2 + C3\\nprint(Total)',\n",
       " '_i31': 'False=2',\n",
       " '_i32': 'vars()'}"
      ]
     },
     "execution_count": 32,
     "metadata": {},
     "output_type": "execute_result"
    }
   ],
   "source": [
    "# Para imprimir todas las variables\n",
    "vars()"
   ]
  },
  {
   "cell_type": "code",
   "execution_count": 37,
   "id": "d1b5c671",
   "metadata": {},
   "outputs": [],
   "source": [
    "# Para borrar variables\n",
    "del C3"
   ]
  },
  {
   "cell_type": "code",
   "execution_count": 34,
   "id": "d2b7c417",
   "metadata": {},
   "outputs": [
    {
     "ename": "NameError",
     "evalue": "name 'C3' is not defined",
     "output_type": "error",
     "traceback": [
      "\u001b[1;31m---------------------------------------------------------------------------\u001b[0m",
      "\u001b[1;31mNameError\u001b[0m                                 Traceback (most recent call last)",
      "\u001b[1;32m<ipython-input-34-2806c42cb923>\u001b[0m in \u001b[0;36m<module>\u001b[1;34m\u001b[0m\n\u001b[1;32m----> 1\u001b[1;33m \u001b[0mC3\u001b[0m\u001b[1;33m\u001b[0m\u001b[1;33m\u001b[0m\u001b[0m\n\u001b[0m",
      "\u001b[1;31mNameError\u001b[0m: name 'C3' is not defined"
     ]
    }
   ],
   "source": [
    "C3"
   ]
  },
  {
   "cell_type": "code",
   "execution_count": 38,
   "id": "592119df",
   "metadata": {},
   "outputs": [],
   "source": [
    "# Variables globales\n",
    "\n",
    "variable1 = \"variable original\"\n",
    "\n",
    "def variable_global():\n",
    "    global variable1\n",
    "    variable1 = \"variable global modificada\"\n",
    "    "
   ]
  },
  {
   "cell_type": "code",
   "execution_count": 39,
   "id": "3a7fc4f8",
   "metadata": {},
   "outputs": [
    {
     "name": "stdout",
     "output_type": "stream",
     "text": [
      "variable original\n"
     ]
    }
   ],
   "source": [
    "print(variable1)"
   ]
  },
  {
   "cell_type": "code",
   "execution_count": 40,
   "id": "78ff1d59",
   "metadata": {},
   "outputs": [],
   "source": [
    "variable_global()"
   ]
  },
  {
   "cell_type": "code",
   "execution_count": 41,
   "id": "9143c6ed",
   "metadata": {},
   "outputs": [
    {
     "name": "stdout",
     "output_type": "stream",
     "text": [
      "variable global modificada\n"
     ]
    }
   ],
   "source": [
    "print(variable1)"
   ]
  },
  {
   "cell_type": "code",
   "execution_count": 42,
   "id": "27e51e75",
   "metadata": {},
   "outputs": [],
   "source": [
    "#complejo = 4+5i\n",
    "#Posee parte real + parte imaginaria\n"
   ]
  },
  {
   "cell_type": "code",
   "execution_count": 43,
   "id": "49de866e",
   "metadata": {},
   "outputs": [
    {
     "data": {
      "text/plain": [
       "True"
      ]
     },
     "execution_count": 43,
     "metadata": {},
     "output_type": "execute_result"
    }
   ],
   "source": [
    "False == False"
   ]
  },
  {
   "cell_type": "code",
   "execution_count": 44,
   "id": "27e239d2",
   "metadata": {},
   "outputs": [
    {
     "data": {
      "text/plain": [
       "0"
      ]
     },
     "execution_count": 44,
     "metadata": {},
     "output_type": "execute_result"
    }
   ],
   "source": [
    "int(False)"
   ]
  },
  {
   "cell_type": "code",
   "execution_count": 45,
   "id": "3db38cca",
   "metadata": {},
   "outputs": [
    {
     "data": {
      "text/plain": [
       "1"
      ]
     },
     "execution_count": 45,
     "metadata": {},
     "output_type": "execute_result"
    }
   ],
   "source": [
    "int(True)"
   ]
  },
  {
   "cell_type": "code",
   "execution_count": 46,
   "id": "47b4ea9f",
   "metadata": {},
   "outputs": [
    {
     "data": {
      "text/plain": [
       "False"
      ]
     },
     "execution_count": 46,
     "metadata": {},
     "output_type": "execute_result"
    }
   ],
   "source": [
    "None==False"
   ]
  },
  {
   "cell_type": "code",
   "execution_count": 47,
   "id": "2510a30b",
   "metadata": {},
   "outputs": [],
   "source": [
    "# Lista se define con [] (corchetes)"
   ]
  },
  {
   "cell_type": "code",
   "execution_count": 48,
   "id": "654c96a8",
   "metadata": {},
   "outputs": [],
   "source": [
    "factura = [\"queso\",70,\"pollo\",80]"
   ]
  },
  {
   "cell_type": "code",
   "execution_count": 49,
   "id": "e82e807e",
   "metadata": {},
   "outputs": [
    {
     "data": {
      "text/plain": [
       "['queso', 70, 'pollo', 80]"
      ]
     },
     "execution_count": 49,
     "metadata": {},
     "output_type": "execute_result"
    }
   ],
   "source": [
    "factura"
   ]
  },
  {
   "cell_type": "code",
   "execution_count": 50,
   "id": "392fa160",
   "metadata": {},
   "outputs": [
    {
     "data": {
      "text/plain": [
       "list"
      ]
     },
     "execution_count": 50,
     "metadata": {},
     "output_type": "execute_result"
    }
   ],
   "source": [
    "type(factura)"
   ]
  },
  {
   "cell_type": "code",
   "execution_count": 51,
   "id": "7a923004",
   "metadata": {},
   "outputs": [],
   "source": [
    "#Acceder a elmentos en una lista por el indice\n",
    "#Por defecto el indice inicia en 0 iniciando desde la izq\n",
    "#El indice negativo incia en la derecha\n"
   ]
  },
  {
   "cell_type": "code",
   "execution_count": 52,
   "id": "b09f9815",
   "metadata": {},
   "outputs": [
    {
     "data": {
      "text/plain": [
       "'queso'"
      ]
     },
     "execution_count": 52,
     "metadata": {},
     "output_type": "execute_result"
    }
   ],
   "source": [
    "factura[0]"
   ]
  },
  {
   "cell_type": "code",
   "execution_count": 53,
   "id": "f90c5478",
   "metadata": {},
   "outputs": [
    {
     "data": {
      "text/plain": [
       "80"
      ]
     },
     "execution_count": 53,
     "metadata": {},
     "output_type": "execute_result"
    }
   ],
   "source": [
    "factura[-1]"
   ]
  },
  {
   "cell_type": "code",
   "execution_count": 54,
   "id": "98953f5a",
   "metadata": {},
   "outputs": [
    {
     "data": {
      "text/plain": [
       "80"
      ]
     },
     "execution_count": 54,
     "metadata": {},
     "output_type": "execute_result"
    }
   ],
   "source": [
    "factura[3]"
   ]
  },
  {
   "cell_type": "code",
   "execution_count": 55,
   "id": "8c5849a6",
   "metadata": {},
   "outputs": [
    {
     "ename": "IndexError",
     "evalue": "list index out of range",
     "output_type": "error",
     "traceback": [
      "\u001b[1;31m---------------------------------------------------------------------------\u001b[0m",
      "\u001b[1;31mIndexError\u001b[0m                                Traceback (most recent call last)",
      "\u001b[1;32m<ipython-input-55-186e9ee26fa9>\u001b[0m in \u001b[0;36m<module>\u001b[1;34m\u001b[0m\n\u001b[1;32m----> 1\u001b[1;33m \u001b[0mfactura\u001b[0m\u001b[1;33m[\u001b[0m\u001b[1;36m10\u001b[0m\u001b[1;33m]\u001b[0m\u001b[1;33m\u001b[0m\u001b[1;33m\u001b[0m\u001b[0m\n\u001b[0m",
      "\u001b[1;31mIndexError\u001b[0m: list index out of range"
     ]
    }
   ],
   "source": [
    "factura[10]"
   ]
  },
  {
   "cell_type": "code",
   "execution_count": 57,
   "id": "1d7f9431",
   "metadata": {},
   "outputs": [],
   "source": [
    "factura[0]=\"papas\""
   ]
  },
  {
   "cell_type": "code",
   "execution_count": 58,
   "id": "a3c9b7f6",
   "metadata": {},
   "outputs": [
    {
     "data": {
      "text/plain": [
       "['papas', 70, 'pollo', 80]"
      ]
     },
     "execution_count": 58,
     "metadata": {},
     "output_type": "execute_result"
    }
   ],
   "source": [
    "factura"
   ]
  },
  {
   "cell_type": "code",
   "execution_count": 59,
   "id": "af0d2a6a",
   "metadata": {},
   "outputs": [],
   "source": [
    "factura.append(100) #Agregar elemnto al final de la lista"
   ]
  },
  {
   "cell_type": "code",
   "execution_count": 60,
   "id": "aad548a0",
   "metadata": {},
   "outputs": [
    {
     "data": {
      "text/plain": [
       "['papas', 70, 'pollo', 80, 100]"
      ]
     },
     "execution_count": 60,
     "metadata": {},
     "output_type": "execute_result"
    }
   ],
   "source": [
    "factura"
   ]
  },
  {
   "cell_type": "code",
   "execution_count": 61,
   "id": "c223bc4e",
   "metadata": {},
   "outputs": [],
   "source": [
    "factura.append(100)\n",
    "factura.append(100)"
   ]
  },
  {
   "cell_type": "code",
   "execution_count": 62,
   "id": "518442f8",
   "metadata": {},
   "outputs": [
    {
     "data": {
      "text/plain": [
       "['papas', 70, 'pollo', 80, 100, 100, 100]"
      ]
     },
     "execution_count": 62,
     "metadata": {},
     "output_type": "execute_result"
    }
   ],
   "source": [
    "factura"
   ]
  },
  {
   "cell_type": "code",
   "execution_count": 63,
   "id": "c08d452e",
   "metadata": {},
   "outputs": [
    {
     "data": {
      "text/plain": [
       "3"
      ]
     },
     "execution_count": 63,
     "metadata": {},
     "output_type": "execute_result"
    }
   ],
   "source": [
    "factura.count(100)"
   ]
  },
  {
   "cell_type": "code",
   "execution_count": 66,
   "id": "8de396ab",
   "metadata": {},
   "outputs": [],
   "source": [
    "factura.extend(range(5,7)) #Agregar numeros de 5 a 7"
   ]
  },
  {
   "cell_type": "code",
   "execution_count": 67,
   "id": "c1cf740e",
   "metadata": {},
   "outputs": [
    {
     "data": {
      "text/plain": [
       "['papas', 70, 'pollo', 80, 100, 100, 100, 5, 6]"
      ]
     },
     "execution_count": 67,
     "metadata": {},
     "output_type": "execute_result"
    }
   ],
   "source": [
    "factura"
   ]
  },
  {
   "cell_type": "code",
   "execution_count": 69,
   "id": "a1b94762",
   "metadata": {},
   "outputs": [
    {
     "data": {
      "text/plain": [
       "4"
      ]
     },
     "execution_count": 69,
     "metadata": {},
     "output_type": "execute_result"
    }
   ],
   "source": [
    "factura.index(100) #Donde aparece por primera vez"
   ]
  },
  {
   "cell_type": "code",
   "execution_count": 70,
   "id": "26473979",
   "metadata": {},
   "outputs": [
    {
     "data": {
      "text/plain": [
       "6"
      ]
     },
     "execution_count": 70,
     "metadata": {},
     "output_type": "execute_result"
    }
   ],
   "source": [
    "factura.pop() #Elimina ultimo elemento"
   ]
  },
  {
   "cell_type": "code",
   "execution_count": 71,
   "id": "1f8dc90d",
   "metadata": {},
   "outputs": [
    {
     "data": {
      "text/plain": [
       "['papas', 70, 'pollo', 80, 100, 100, 100, 5]"
      ]
     },
     "execution_count": 71,
     "metadata": {},
     "output_type": "execute_result"
    }
   ],
   "source": [
    "factura"
   ]
  },
  {
   "cell_type": "code",
   "execution_count": 72,
   "id": "0a8d15ff",
   "metadata": {},
   "outputs": [],
   "source": [
    "factura.insert(2,10) #Insertar un elemento en indice (indice,elemento)"
   ]
  },
  {
   "cell_type": "code",
   "execution_count": 73,
   "id": "407c2af5",
   "metadata": {},
   "outputs": [
    {
     "data": {
      "text/plain": [
       "['papas', 70, 10, 'pollo', 80, 100, 100, 100, 5]"
      ]
     },
     "execution_count": 73,
     "metadata": {},
     "output_type": "execute_result"
    }
   ],
   "source": [
    "factura"
   ]
  },
  {
   "cell_type": "code",
   "execution_count": 74,
   "id": "52d11dc1",
   "metadata": {},
   "outputs": [],
   "source": [
    "factura.remove(100) #Elimina el elemento de la lista, el primero de la lista"
   ]
  },
  {
   "cell_type": "code",
   "execution_count": 75,
   "id": "7fcd59c6",
   "metadata": {},
   "outputs": [
    {
     "data": {
      "text/plain": [
       "['papas', 70, 10, 'pollo', 80, 100, 100, 5]"
      ]
     },
     "execution_count": 75,
     "metadata": {},
     "output_type": "execute_result"
    }
   ],
   "source": [
    "factura"
   ]
  },
  {
   "cell_type": "code",
   "execution_count": 76,
   "id": "ba5ba254",
   "metadata": {},
   "outputs": [
    {
     "data": {
      "text/plain": [
       "10"
      ]
     },
     "execution_count": 76,
     "metadata": {},
     "output_type": "execute_result"
    }
   ],
   "source": [
    "factura.pop(2) #Elimina un elemento especifico de la lista segun indice"
   ]
  },
  {
   "cell_type": "code",
   "execution_count": 77,
   "id": "6d3273a8",
   "metadata": {},
   "outputs": [
    {
     "data": {
      "text/plain": [
       "['papas', 70, 'pollo', 80, 100, 100, 5]"
      ]
     },
     "execution_count": 77,
     "metadata": {},
     "output_type": "execute_result"
    }
   ],
   "source": [
    "factura"
   ]
  },
  {
   "cell_type": "code",
   "execution_count": null,
   "id": "f21248e6",
   "metadata": {},
   "outputs": [],
   "source": []
  }
 ],
 "metadata": {
  "kernelspec": {
   "display_name": "Python 3",
   "language": "python",
   "name": "python3"
  },
  "language_info": {
   "codemirror_mode": {
    "name": "ipython",
    "version": 3
   },
   "file_extension": ".py",
   "mimetype": "text/x-python",
   "name": "python",
   "nbconvert_exporter": "python",
   "pygments_lexer": "ipython3",
   "version": "3.6.13"
  }
 },
 "nbformat": 4,
 "nbformat_minor": 5
}
