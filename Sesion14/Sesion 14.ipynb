{
 "cells": [
  {
   "cell_type": "markdown",
   "id": "5f940a7f",
   "metadata": {},
   "source": [
    "# Programación Orientada a Objetos"
   ]
  },
  {
   "cell_type": "code",
   "execution_count": 2,
   "id": "ea9e00f7",
   "metadata": {},
   "outputs": [],
   "source": [
    "# Organizar el codigo y llamar funciones/transformaciones n cantidad de veces"
   ]
  },
  {
   "cell_type": "code",
   "execution_count": 3,
   "id": "031610d2",
   "metadata": {},
   "outputs": [],
   "source": [
    "class Persona: #Definicion de la clase\n",
    "    '''Clase que representa a una persona'''\n",
    "    nombre = 'Victor'\n",
    "    apellido = 'Machuca'\n",
    "    genero = 'M'\n",
    "    cedula = \"N/A\""
   ]
  },
  {
   "cell_type": "code",
   "execution_count": 4,
   "id": "89602596",
   "metadata": {},
   "outputs": [],
   "source": [
    "Emp1 = Persona #Asignacion de la clase"
   ]
  },
  {
   "cell_type": "code",
   "execution_count": 5,
   "id": "fc4ef3b9",
   "metadata": {},
   "outputs": [
    {
     "data": {
      "text/plain": [
       "'Victor'"
      ]
     },
     "execution_count": 5,
     "metadata": {},
     "output_type": "execute_result"
    }
   ],
   "source": [
    "Emp1.nombre # Busca el valor"
   ]
  },
  {
   "cell_type": "code",
   "execution_count": 6,
   "id": "064c5df2",
   "metadata": {
    "scrolled": false
   },
   "outputs": [
    {
     "data": {
      "text/plain": [
       "['__class__',\n",
       " '__delattr__',\n",
       " '__dict__',\n",
       " '__dir__',\n",
       " '__doc__',\n",
       " '__eq__',\n",
       " '__format__',\n",
       " '__ge__',\n",
       " '__getattribute__',\n",
       " '__gt__',\n",
       " '__hash__',\n",
       " '__init__',\n",
       " '__init_subclass__',\n",
       " '__le__',\n",
       " '__lt__',\n",
       " '__module__',\n",
       " '__ne__',\n",
       " '__new__',\n",
       " '__reduce__',\n",
       " '__reduce_ex__',\n",
       " '__repr__',\n",
       " '__setattr__',\n",
       " '__sizeof__',\n",
       " '__str__',\n",
       " '__subclasshook__',\n",
       " '__weakref__',\n",
       " 'apellido',\n",
       " 'cedula',\n",
       " 'genero',\n",
       " 'nombre']"
      ]
     },
     "execution_count": 6,
     "metadata": {},
     "output_type": "execute_result"
    }
   ],
   "source": [
    "dir(Emp1) #Directorio del objeto"
   ]
  },
  {
   "cell_type": "code",
   "execution_count": 7,
   "id": "9bd29521",
   "metadata": {},
   "outputs": [
    {
     "name": "stdout",
     "output_type": "stream",
     "text": [
      "El objeto de la clase  Persona, Clase que representa a una persona\n"
     ]
    }
   ],
   "source": [
    "print(\"El objeto de la clase \",Emp1.__name__+ \", \" + Emp1.__doc__)"
   ]
  },
  {
   "cell_type": "code",
   "execution_count": 8,
   "id": "3315a308",
   "metadata": {},
   "outputs": [],
   "source": [
    "class Persona: #Definicion de la clase\n",
    "    '''Clase que representa a una persona'''\n",
    "    nombre = 'Victor'\n",
    "    apellido = 'Machuca'\n",
    "    genero = 'M'\n",
    "    cedula = \"N/A\"\n",
    "    \n",
    "    def hablar(self,mensaje):\n",
    "        '''Impresion de un mensaje'''\n",
    "        return mensaje"
   ]
  },
  {
   "cell_type": "code",
   "execution_count": 9,
   "id": "187eb253",
   "metadata": {},
   "outputs": [],
   "source": [
    "Emp2 = Persona # Asignacion"
   ]
  },
  {
   "cell_type": "code",
   "execution_count": 10,
   "id": "18038ea9",
   "metadata": {},
   "outputs": [
    {
     "data": {
      "text/plain": [
       "'Mensaje'"
      ]
     },
     "execution_count": 10,
     "metadata": {},
     "output_type": "execute_result"
    }
   ],
   "source": [
    "Persona().hablar(\"Mensaje\")"
   ]
  },
  {
   "cell_type": "code",
   "execution_count": 11,
   "id": "52353e2e",
   "metadata": {},
   "outputs": [
    {
     "data": {
      "text/plain": [
       "method"
      ]
     },
     "execution_count": 11,
     "metadata": {},
     "output_type": "execute_result"
    }
   ],
   "source": [
    "type(Persona().hablar)"
   ]
  },
  {
   "cell_type": "code",
   "execution_count": 12,
   "id": "af53fc8f",
   "metadata": {},
   "outputs": [
    {
     "data": {
      "text/plain": [
       "str"
      ]
     },
     "execution_count": 12,
     "metadata": {},
     "output_type": "execute_result"
    }
   ],
   "source": [
    "type(Persona().nombre)"
   ]
  },
  {
   "cell_type": "code",
   "execution_count": 13,
   "id": "c23c36a2",
   "metadata": {},
   "outputs": [
    {
     "data": {
      "text/plain": [
       "'Impresion de un mensaje'"
      ]
     },
     "execution_count": 13,
     "metadata": {},
     "output_type": "execute_result"
    }
   ],
   "source": [
    "Persona().hablar.__doc__"
   ]
  },
  {
   "cell_type": "code",
   "execution_count": 14,
   "id": "e51b40d1",
   "metadata": {},
   "outputs": [
    {
     "data": {
      "text/plain": [
       "<function __main__.Persona.hablar(self, mensaje)>"
      ]
     },
     "execution_count": 14,
     "metadata": {},
     "output_type": "execute_result"
    }
   ],
   "source": [
    "Emp2.hablar"
   ]
  },
  {
   "cell_type": "code",
   "execution_count": 15,
   "id": "5f35e85d",
   "metadata": {},
   "outputs": [
    {
     "data": {
      "text/plain": [
       "'Victor'"
      ]
     },
     "execution_count": 15,
     "metadata": {},
     "output_type": "execute_result"
    }
   ],
   "source": [
    "Emp2.nombre"
   ]
  },
  {
   "cell_type": "code",
   "execution_count": 16,
   "id": "3a5fd5e8",
   "metadata": {},
   "outputs": [],
   "source": [
    "class Persona: #Definicion de la clase\n",
    "    '''Clase que representa a una persona'''\n",
    "    def __init__(self, nombre, apellido, genero, cedula): #Definir funcion init\n",
    "        self.nombre   = nombre\n",
    "        self.apellido = apellido\n",
    "        self.genero   = genero\n",
    "        self.cedula   = cedula\n",
    "    \n",
    "    def hablar(self,mensaje):\n",
    "        '''Impresion de un mensaje'''\n",
    "        return mensaje\n",
    "    \n",
    "    "
   ]
  },
  {
   "cell_type": "markdown",
   "id": "6740ae18",
   "metadata": {},
   "source": [
    "# Sesion 14"
   ]
  },
  {
   "cell_type": "code",
   "execution_count": 30,
   "id": "6df009a7",
   "metadata": {},
   "outputs": [],
   "source": [
    "class Superv(Persona):\n",
    "    '''Clase que representa un supervisor'''\n",
    "    \n",
    "    def __init__(self,nombre,apellido,genero,cedula,puesto):\n",
    "        '''Constructor para un supervisor'''\n",
    "        \n",
    "        Persona.__init__(self,nombre,apellido,genero,cedula) #Hace referencia a la clase persona\n",
    "        self.puesto = puesto #Atributo nuevo que lo diferencia de persona\n",
    "        self.tareas=[\"10\",\"11\",\"12\",\"13\"] #Nuevo atributo diferenciador por medio de Monkey Patching\n",
    "        \n",
    "    def __str__(self):\n",
    "        '''Devuelve la cadena descriptiva'''\n",
    "        \n",
    "        return \"%s: %s %s, puesto: '%s', sus tareas son %s \" %(\n",
    "            #    0   1  2            3                   4\n",
    "        self.__doc__, self.nombre, self.apellido, self.puesto, self.consulta_tareas())\n",
    "        #       0             1            2            3            4\n",
    "        \n",
    "    def consulta_tareas(self):\n",
    "        '''Mostrar las tareas de un supervisor'''\n",
    "        return \", \".join(self.tareas)"
   ]
  },
  {
   "cell_type": "code",
   "execution_count": 18,
   "id": "94f5191c",
   "metadata": {},
   "outputs": [],
   "source": [
    "Emp2 = Persona(\"nombre\",\"apellido\",\"genero\",\"cedula\")"
   ]
  },
  {
   "cell_type": "code",
   "execution_count": 19,
   "id": "0c5814a3",
   "metadata": {},
   "outputs": [
    {
     "data": {
      "text/plain": [
       "['__class__',\n",
       " '__delattr__',\n",
       " '__dict__',\n",
       " '__dir__',\n",
       " '__doc__',\n",
       " '__eq__',\n",
       " '__format__',\n",
       " '__ge__',\n",
       " '__getattribute__',\n",
       " '__gt__',\n",
       " '__hash__',\n",
       " '__init__',\n",
       " '__init_subclass__',\n",
       " '__le__',\n",
       " '__lt__',\n",
       " '__module__',\n",
       " '__ne__',\n",
       " '__new__',\n",
       " '__reduce__',\n",
       " '__reduce_ex__',\n",
       " '__repr__',\n",
       " '__setattr__',\n",
       " '__sizeof__',\n",
       " '__str__',\n",
       " '__subclasshook__',\n",
       " '__weakref__',\n",
       " 'apellido',\n",
       " 'cedula',\n",
       " 'genero',\n",
       " 'hablar',\n",
       " 'nombre']"
      ]
     },
     "execution_count": 19,
     "metadata": {},
     "output_type": "execute_result"
    }
   ],
   "source": [
    "dir(Emp2)"
   ]
  },
  {
   "cell_type": "code",
   "execution_count": 20,
   "id": "18baedb3",
   "metadata": {},
   "outputs": [],
   "source": [
    "Super1 = Superv(\"nombre\",\"apellido\",\"genero\",\"cedula\",\"puesto\")"
   ]
  },
  {
   "cell_type": "code",
   "execution_count": 21,
   "id": "62ae1300",
   "metadata": {},
   "outputs": [
    {
     "data": {
      "text/plain": [
       "['__class__',\n",
       " '__delattr__',\n",
       " '__dict__',\n",
       " '__dir__',\n",
       " '__doc__',\n",
       " '__eq__',\n",
       " '__format__',\n",
       " '__ge__',\n",
       " '__getattribute__',\n",
       " '__gt__',\n",
       " '__hash__',\n",
       " '__init__',\n",
       " '__init_subclass__',\n",
       " '__le__',\n",
       " '__lt__',\n",
       " '__module__',\n",
       " '__ne__',\n",
       " '__new__',\n",
       " '__reduce__',\n",
       " '__reduce_ex__',\n",
       " '__repr__',\n",
       " '__setattr__',\n",
       " '__sizeof__',\n",
       " '__str__',\n",
       " '__subclasshook__',\n",
       " '__weakref__',\n",
       " 'apellido',\n",
       " 'cedula',\n",
       " 'consulta_tareas',\n",
       " 'genero',\n",
       " 'hablar',\n",
       " 'nombre',\n",
       " 'puesto',\n",
       " 'tareas']"
      ]
     },
     "execution_count": 21,
     "metadata": {},
     "output_type": "execute_result"
    }
   ],
   "source": [
    "dir(Super1)"
   ]
  },
  {
   "cell_type": "code",
   "execution_count": 32,
   "id": "b9afdfd4",
   "metadata": {},
   "outputs": [],
   "source": [
    "Super2 = Superv(\"Victor\",\"Machuca\",\"M\",\"123\",\"A\")"
   ]
  },
  {
   "cell_type": "code",
   "execution_count": 34,
   "id": "ec0c45ba",
   "metadata": {},
   "outputs": [],
   "source": [
    "Super3 = Superv(\"Mauricio\",\"Gomez\",\"M\",\"456\",\"B\")"
   ]
  },
  {
   "cell_type": "code",
   "execution_count": 24,
   "id": "16a9e00f",
   "metadata": {},
   "outputs": [
    {
     "name": "stdout",
     "output_type": "stream",
     "text": [
      "Cedula de S2: 123\n"
     ]
    }
   ],
   "source": [
    "print(\"Cedula de S2: {0}\".format(Super2.cedula))"
   ]
  },
  {
   "cell_type": "code",
   "execution_count": 25,
   "id": "01be64cd",
   "metadata": {},
   "outputs": [
    {
     "name": "stdout",
     "output_type": "stream",
     "text": [
      "Cedula de S2: cedula\n"
     ]
    }
   ],
   "source": [
    "print(\"Cedula de S2: {0}\".format(Super1.cedula))"
   ]
  },
  {
   "cell_type": "code",
   "execution_count": 33,
   "id": "34687f1a",
   "metadata": {},
   "outputs": [
    {
     "name": "stdout",
     "output_type": "stream",
     "text": [
      "Las tareas son: 10, 11, 12, 13\n"
     ]
    }
   ],
   "source": [
    "print(\"Las tareas son: {0}\".format(Super2.consulta_tareas()))"
   ]
  },
  {
   "cell_type": "code",
   "execution_count": 35,
   "id": "e70206f9",
   "metadata": {},
   "outputs": [
    {
     "name": "stdout",
     "output_type": "stream",
     "text": [
      "\n",
      "Clase que representa un supervisor: Mauricio Gomez, puesto: 'B', sus tareas son 10, 11, 12, 13 \n"
     ]
    }
   ],
   "source": [
    "print(\"\\n\"+str(Super3))"
   ]
  }
 ],
 "metadata": {
  "kernelspec": {
   "display_name": "Python 3",
   "language": "python",
   "name": "python3"
  },
  "language_info": {
   "codemirror_mode": {
    "name": "ipython",
    "version": 3
   },
   "file_extension": ".py",
   "mimetype": "text/x-python",
   "name": "python",
   "nbconvert_exporter": "python",
   "pygments_lexer": "ipython3",
   "version": "3.6.13"
  }
 },
 "nbformat": 4,
 "nbformat_minor": 5
}
