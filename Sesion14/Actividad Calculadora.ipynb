{
 "cells": [
  {
   "cell_type": "code",
   "execution_count": 34,
   "id": "5d20a842",
   "metadata": {},
   "outputs": [],
   "source": [
    "import math\n",
    "\n",
    "# Definición de la clase\n",
    "class calculadora():\n",
    "    '''Clase que define una calculadora'''\n",
    "    \n",
    "    def __init__(self):\n",
    "        self.total = 0\n",
    "        print(\"Calculadora creada...\")\n",
    "    \n",
    "    def sumar(self, numero):\n",
    "        self.total += numero\n",
    "        print(\"Resultado: \", self.total)\n",
    "    \n",
    "    def restar(self, numero):\n",
    "        self.total -= numero\n",
    "        print(\"Resultado: \", self.total)\n",
    "    \n",
    "    def multiplicar(self, numero):\n",
    "        self.total *= numero\n",
    "        print(\"Resultado: \", self.total)\n",
    "    \n",
    "    def dividir(self, numero):\n",
    "        self.total /= numero\n",
    "        print(\"Resultado: \", self.total)\n",
    "    \n",
    "    def limpiar(self):\n",
    "        self.total = 0\n",
    "        print(\"Calculadora Limpiada\")\n",
    "    \n",
    "    def ver_total(self):\n",
    "        print(\"Resultado: \", self.total)\n",
    "    \n",
    "    def potencia(self,valor):\n",
    "        if valor <= 0:\n",
    "            print(\"Especificar un valor de potencia positivo > 1\")\n",
    "        else:\n",
    "            self.total = self.total**valor\n",
    "            print(\"Resultado: \", self.total)\n",
    "    \n",
    "    def raiz(self):\n",
    "        if self.total < 0:\n",
    "            print(\"No se puede calcular raiz porque total es negativo\")\n",
    "        else:\n",
    "            self.total = math.sqrt(self.total)\n",
    "            print(\"Resultado: \", self.total)\n",
    "    "
   ]
  },
  {
   "cell_type": "code",
   "execution_count": 35,
   "id": "56761bac",
   "metadata": {},
   "outputs": [
    {
     "name": "stdout",
     "output_type": "stream",
     "text": [
      "Calculadora creada...\n"
     ]
    }
   ],
   "source": [
    "calc = calculadora()"
   ]
  },
  {
   "cell_type": "code",
   "execution_count": 36,
   "id": "24898b27",
   "metadata": {},
   "outputs": [
    {
     "name": "stdout",
     "output_type": "stream",
     "text": [
      "Resultado:  10\n",
      "Resultado:  20\n"
     ]
    }
   ],
   "source": [
    "calc.sumar(10)\n",
    "calc.sumar(10)"
   ]
  },
  {
   "cell_type": "code",
   "execution_count": 37,
   "id": "b2df1856",
   "metadata": {},
   "outputs": [
    {
     "name": "stdout",
     "output_type": "stream",
     "text": [
      "Resultado:  20\n"
     ]
    }
   ],
   "source": [
    "calc.ver_total()"
   ]
  },
  {
   "cell_type": "code",
   "execution_count": 38,
   "id": "693a6a4d",
   "metadata": {},
   "outputs": [
    {
     "name": "stdout",
     "output_type": "stream",
     "text": [
      "Resultado:  5.0\n"
     ]
    }
   ],
   "source": [
    "calc.dividir(4)"
   ]
  },
  {
   "cell_type": "code",
   "execution_count": 13,
   "id": "bba7f187",
   "metadata": {},
   "outputs": [
    {
     "name": "stdout",
     "output_type": "stream",
     "text": [
      "Resultado:  400.0\n"
     ]
    }
   ],
   "source": [
    "calc.multiplicar(100)"
   ]
  },
  {
   "cell_type": "code",
   "execution_count": 40,
   "id": "3b00ee7e",
   "metadata": {},
   "outputs": [
    {
     "name": "stdout",
     "output_type": "stream",
     "text": [
      "Resultado:  25.0\n"
     ]
    }
   ],
   "source": [
    "calc.potencia(2)"
   ]
  },
  {
   "cell_type": "code",
   "execution_count": 44,
   "id": "0cd1790c",
   "metadata": {},
   "outputs": [
    {
     "name": "stdout",
     "output_type": "stream",
     "text": [
      "No se puede calcular raiz porque total es negativo\n"
     ]
    }
   ],
   "source": [
    "calc.raiz()"
   ]
  },
  {
   "cell_type": "code",
   "execution_count": 43,
   "id": "c5299c47",
   "metadata": {},
   "outputs": [
    {
     "name": "stdout",
     "output_type": "stream",
     "text": [
      "Resultado:  -95.0\n"
     ]
    }
   ],
   "source": [
    "calc.restar(100)"
   ]
  },
  {
   "cell_type": "code",
   "execution_count": 29,
   "id": "137961be",
   "metadata": {},
   "outputs": [
    {
     "name": "stdout",
     "output_type": "stream",
     "text": [
      "Calculadora Limpiada\n"
     ]
    }
   ],
   "source": [
    "calc.limpiar()"
   ]
  },
  {
   "cell_type": "code",
   "execution_count": 39,
   "id": "869569a5",
   "metadata": {},
   "outputs": [
    {
     "name": "stdout",
     "output_type": "stream",
     "text": [
      "Resultado:  5.0\n"
     ]
    }
   ],
   "source": [
    "calc.ver_total()"
   ]
  }
 ],
 "metadata": {
  "kernelspec": {
   "display_name": "Python 3",
   "language": "python",
   "name": "python3"
  },
  "language_info": {
   "codemirror_mode": {
    "name": "ipython",
    "version": 3
   },
   "file_extension": ".py",
   "mimetype": "text/x-python",
   "name": "python",
   "nbconvert_exporter": "python",
   "pygments_lexer": "ipython3",
   "version": "3.6.13"
  }
 },
 "nbformat": 4,
 "nbformat_minor": 5
}
